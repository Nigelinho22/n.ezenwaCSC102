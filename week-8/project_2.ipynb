{
 "cells": [
  {
   "cell_type": "code",
   "execution_count": null,
   "id": "723cc3e1",
   "metadata": {},
   "outputs": [
    {
     "name": "stdout",
     "output_type": "stream",
     "text": [
      "Data saved to cadbury_market.csv\n"
     ]
    }
   ],
   "source": [
    "import pandas as pd\n",
    "\n",
    "# Create a dictionary with product data\n",
    "data = {\n",
    "    'Segment': ['Refreshment Beverages', 'Refreshment Beverages', \n",
    "                'Confectionery', 'Confectionery',\n",
    "                'Intermediate Cocoa Products', 'Intermediate Cocoa Products', \n",
    "                'Intermediate Cocoa Products', 'Intermediate Cocoa Products'],\n",
    "    \n",
    "    'Brand': ['CADBURY BOURNVITA', 'CADBURY 3-in-1 HOT CHOCOLATE', \n",
    "              'TOMTOM CLASSIC', 'BUTTERMINT',\n",
    "              'COCOA POWDER', 'COCOA BUTTER', 'COCOA LIQUOR', 'COCOA CAKE'],\n",
    "    \n",
    "    'Export/Local': ['Local', 'Local', \n",
    "                     'Local', 'Local',\n",
    "                     'Local', 'Export', 'Export', 'Export']\n",
    "}\n",
    "\n",
    "# Create DataFrame\n",
    "df = pd.DataFrame(data)\n",
    "\n",
    "# Save DataFrame to CSV\n",
    "df.to_csv('cadbury_market.csv')\n",
    "\n",
    "print(\"Data saved to cadbury_market.csv\")\n"
   ]
  }
 ],
 "metadata": {
  "kernelspec": {
   "display_name": "Python 3",
   "language": "python",
   "name": "python3"
  },
  "language_info": {
   "codemirror_mode": {
    "name": "ipython",
    "version": 3
   },
   "file_extension": ".py",
   "mimetype": "text/x-python",
   "name": "python",
   "nbconvert_exporter": "python",
   "pygments_lexer": "ipython3",
   "version": "3.11.9"
  }
 },
 "nbformat": 4,
 "nbformat_minor": 5
}
