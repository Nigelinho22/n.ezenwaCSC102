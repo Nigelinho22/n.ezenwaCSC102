{
 "cells": [
  {
   "cell_type": "code",
   "execution_count": 5,
   "metadata": {},
   "outputs": [
    {
     "name": "stdout",
     "output_type": "stream",
     "text": [
      "Your state of origin is:  jaloingo\n",
      "The first character is:  j\n",
      "The characters starting from 3rd to 5th are:  loi\n",
      "The string starting from 3rd character is:  loingo\n",
      "State of origin two times jaloingojaloingo\n"
     ]
    }
   ],
   "source": [
    "str = input(\"Enter your state of origin:\")\n",
    "\n",
    "print (\"Your state of origin is: \", str)\n",
    "print (\"The first character is: \", str[0])\n",
    "print (\"The characters starting from 3rd to 5th are: \", str[2:5])\n",
    "print (\"The string starting from 3rd character is: \", str[2:])\n",
    "print (\"State of origin two times\", str * 2)\n"
   ]
  },
  {
   "cell_type": "code",
   "execution_count": 3,
   "metadata": {},
   "outputs": [
    {
     "name": "stdout",
     "output_type": "stream",
     "text": [
      "The energy equivalent to 34.0 kg of mass is 3.0557676077051796e+18 joules.\n"
     ]
    }
   ],
   "source": [
    "# Input from user\n",
    "m = float(input(\"Enter mass in kilograms: \"))\n",
    "\n",
    "# Constant value for the speed of light in m/s\n",
    "c = 299792458\n",
    "\n",
    "# Calculating energy using Einstein's equation\n",
    "energy = m * c ** 2\n",
    "\n",
    "# Displaying the result\n",
    "print(f\"The energy equivalent to {m} kg of mass is {energy} joules.\")"
   ]
  },
  {
   "cell_type": "code",
   "execution_count": null,
   "metadata": {},
   "outputs": [
    {
     "name": "stdout",
     "output_type": "stream",
     "text": [
      "['Anaconda', 786, 2.23, 'Jupyter', 70.2]\n",
      "Anaconda\n",
      "[786, 2.23]\n",
      "[2.23, 'Jupyter', 70.2]\n",
      "[321, 'Python', 321, 'Python']\n",
      "['Anaconda', 786, 2.23, 'Jupyter', 70.2, 321, 'Python']\n"
     ]
    }
   ],
   "source": [
    "list = [ 'Anaconda', 786 , 2.23, 'Jupyter', 70.2 ]\n",
    "shortlist = [321, 'Python' ]\n",
    "\n",
    "print(list)  #Prints complete list\n",
    "print(list[0]) # Prints first element of the list \n",
    "print(list[1:3]) # Prints elements starting from 2nd till 3rd\n",
    "print(list[2:]) #Prints elements starting from 3rd element\n",
    "print(shortlist * 2) # Prints List two times\n",
    "print(list + shortlist) # Prints concatenated lists"
   ]
  },
  {
   "cell_type": "code",
   "execution_count": 1,
   "metadata": {},
   "outputs": [
    {
     "name": "stdout",
     "output_type": "stream",
     "text": [
      "('Ekiti', 750, 'Oshogbo', 250, 'Akure', 500)\n",
      "500\n",
      "('Oshogbo', 250)\n",
      "(250, 'Akure', 500)\n",
      "('Abeokuta', 300, 'Ogbomoso', 'Abeokuta', 300, 'Ogbomoso', 'Abeokuta', 300, 'Ogbomoso')\n",
      "('Ekiti', 750, 'Oshogbo', 250, 'Akure', 500, 'Abeokuta', 300, 'Ogbomoso')\n"
     ]
    }
   ],
   "source": [
    "tuple = (\"Ekiti\", 750, 'Oshogbo', 250, \"Akure\", 500)\n",
    "s_tuple = (\"Abeokuta\", 300, \"Ogbomoso\")\n",
    "\n",
    "# Prints the complete tuple\n",
    "print (tuple)\n",
    "\n",
    "# Prints last element of the tuple\n",
    "print (tuple[-1])\n",
    "\n",
    "# Prints elements of the tuple starting from 2nd till 3rd\n",
    "print (tuple[2:4])\n",
    "\n",
    "# Prints elements of the tuple starting from 3rd element\n",
    "print (tuple[3:])\n",
    "\n",
    "# Prints the contents of the tuple twice\n",
    "print (s_tuple * 3)\n",
    "\n",
    "# Prints concatenated tuples\n",
    "print (tuple + s_tuple)"
   ]
  },
  {
   "cell_type": "code",
   "execution_count": 2,
   "metadata": {},
   "outputs": [
    {
     "name": "stdout",
     "output_type": "stream",
     "text": [
      "False\n",
      "False\n",
      "False\n",
      "False\n",
      "True\n"
     ]
    }
   ],
   "source": [
    "# Returns false as game_1 is not equal to game_2\n",
    "game_1 = 2\n",
    "game_2 = 4\n",
    "print(bool(game_1 == game_2))\n",
    "# Or\n",
    "print(game_1 == game_2)\n",
    "\n",
    "# Returns False as val is None\n",
    "val = None\n",
    "print(bool(val))\n",
    "\n",
    "# Returns false as num is an empty sequence\n",
    "num = ()\n",
    "print(bool(num))\n",
    "\n",
    "# Returns true as age is boolean\n",
    "age = True\n",
    "print(bool(age))"
   ]
  },
  {
   "cell_type": "code",
   "execution_count": 3,
   "metadata": {},
   "outputs": [
    {
     "name": "stdout",
     "output_type": "stream",
     "text": [
      "Grade = 70\n",
      "GPA = 4\n",
      "CGPA = 4\n"
     ]
    }
   ],
   "source": [
    "# Convert to int\n",
    "\n",
    "grade = int(70)\n",
    "gpa = int(4.9)\n",
    "cgpa = int(\"4\")\n",
    "\n",
    "print(f\"Grade = {grade}\")\n",
    "print(f\"GPA = {gpa}\")\n",
    "print(f\"CGPA = {cgpa}\")\n",
    "\n",
    "# grade will be 70\n",
    "# gpa will be 4.9\n",
    "# cgpa will be 4"
   ]
  },
  {
   "cell_type": "code",
   "execution_count": null,
   "metadata": {},
   "outputs": [],
   "source": [
    "# Convert to float\n",
    "\n",
    "grade = float(97)\n",
    "gpa = float(5)\n",
    "cgpa = float(\"4.7\")\n",
    "\n",
    "print(f\"Grade = {grade}\")\n",
    "print(f\"GPA = {gpa}\")\n",
    "print(f\"CGPA = {cgpa}\")"
   ]
  },
  {
   "cell_type": "code",
   "execution_count": 1,
   "metadata": {},
   "outputs": [
    {
     "name": "stdout",
     "output_type": "stream",
     "text": [
      "Alice is now 30 years old.\n",
      "Bob is now 25 years old.\n"
     ]
    }
   ],
   "source": [
    "name1 = \"Alice\"\n",
    "age1 = 25\n",
    "name2 = \"Bob\"\n",
    "age2 = 30\n",
    "\n",
    "# Swapping ages\n",
    "age1, age2 = age2, age1\n",
    "\n",
    "print(name1, \"is now\", age1, \"years old.\")\n",
    "print(name2, \"is now\", age2, \"years old.\")\n"
   ]
  },
  {
   "cell_type": "code",
   "execution_count": null,
   "metadata": {},
   "outputs": [
    {
     "name": "stdout",
     "output_type": "stream",
     "text": [
      "Welcome to the Store Checkout!\n",
      "Let's proceed with your checkout  fb\n",
      "Total bill: $26817.00\n",
      "Payment successful! Your change is: $429849.00\n",
      "Thank you for shopping!\n"
     ]
    }
   ],
   "source": [
    "# Start checkout\n",
    "print(\"Welcome to the Store Checkout!\")\n",
    "name = input('What is your name, dear customer:  ')\n",
    "print(\"Let's proceed with your checkout \",name)\n",
    "\n",
    "total_price = 0  # Start with no items\n",
    "\n",
    "while True:\n",
    "    item_price = input(\"Enter item price (or type 'done' to finish): \")\n",
    "    \n",
    "    if item_price.lower() == 'done':  # If user types 'done', stop adding items\n",
    "        break\n",
    "\n",
    "    total_price += float(item_price)  # Add item price to total\n",
    "\n",
    "print(f\"Total bill: ${total_price:.2f}\")\n",
    "\n",
    "# Payment process\n",
    "while True:\n",
    "    payment = float(input(\"Enter payment amount: \"))\n",
    "\n",
    "    if payment >= total_price:  # If payment is enough\n",
    "        change = payment - total_price\n",
    "        print(f\"Payment successful! Your change is: ${change:.2f}\")\n",
    "        break\n",
    "    else:\n",
    "        print(\"Not enough money! Please enter a higher amount.\")\n",
    "\n",
    "print(\"Thank you for shopping!\")\n"
   ]
  },
  {
   "cell_type": "code",
   "execution_count": 5,
   "metadata": {},
   "outputs": [
    {
     "name": "stdout",
     "output_type": "stream",
     "text": [
      "Choose an equation type:\n",
      "1. Cubic Equation\n",
      "2. Quartic Equation\n",
      "3. Quadratic Equation\n",
      "Quadratic equation roots: [-8.16742416417845, -0.832575835821550]\n"
     ]
    }
   ],
   "source": [
    "import sympy as sp\n",
    "\n",
    "def solve_cubic():\n",
    "    A = float(input(\"Enter coefficient A: \"))\n",
    "    B = float(input(\"Enter coefficient B: \"))\n",
    "    C = float(input(\"Enter coefficient C: \"))\n",
    "    D = float(input(\"Enter coefficient D: \"))\n",
    "    x = sp.symbols('x')\n",
    "    roots = sp.solve(A*x**3 + B*x**2 + C*x + D, x)\n",
    "    print(\"Cubic equation roots:\", roots)\n",
    "\n",
    "def solve_quartic():\n",
    "    A = float(input(\"Enter coefficient A: \"))\n",
    "    B = float(input(\"Enter coefficient B: \"))\n",
    "    C = float(input(\"Enter coefficient C: \"))\n",
    "    D = float(input(\"Enter coefficient D: \"))\n",
    "    E = float(input(\"Enter coefficient E: \"))\n",
    "    x = sp.symbols('x')\n",
    "    roots = sp.solve(A*x**4 + B*x**3 + C*x**2 + D*x + E, x)\n",
    "    print(\"Quartic equation roots:\", roots)\n",
    "\n",
    "def solve_quadratic():\n",
    "    A = float(input(\"Enter coefficient A: \"))\n",
    "    B = float(input(\"Enter coefficient B: \"))\n",
    "    C = float(input(\"Enter coefficient C: \"))\n",
    "    x = sp.symbols('x')\n",
    "    roots = sp.solve(A*x**2 + B*x + C, x)\n",
    "    print(\"Quadratic equation roots:\", roots)\n",
    "\n",
    "print(\"Choose an equation type:\")\n",
    "print(\"1. Cubic Equation\")\n",
    "print(\"2. Quartic Equation\")\n",
    "print(\"3. Quadratic Equation\")\n",
    "choice = input(\"Enter choice (1/2/3): \")\n",
    "\n",
    "if choice == \"1\":\n",
    "    solve_cubic()\n",
    "elif choice == \"2\":\n",
    "    solve_quartic()\n",
    "elif choice == \"3\":\n",
    "    solve_quadratic()\n",
    "else:\n",
    "    print(\"Invalid choice\")"
   ]
  }
 ],
 "metadata": {
  "kernelspec": {
   "display_name": "Python 3",
   "language": "python",
   "name": "python3"
  },
  "language_info": {
   "codemirror_mode": {
    "name": "ipython",
    "version": 3
   },
   "file_extension": ".py",
   "mimetype": "text/x-python",
   "name": "python",
   "nbconvert_exporter": "python",
   "pygments_lexer": "ipython3",
   "version": "3.11.9"
  }
 },
 "nbformat": 4,
 "nbformat_minor": 2
}
