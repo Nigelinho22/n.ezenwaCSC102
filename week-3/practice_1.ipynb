{
 "cells": [
  {
   "cell_type": "code",
   "execution_count": 1,
   "metadata": {},
   "outputs": [
    {
     "name": "stdout",
     "output_type": "stream",
     "text": [
      "The name of City 1 after swapping is London\n",
      "The name of City 2 after swapping is Lagos\n"
     ]
    }
   ],
   "source": [
    "city_1 = input('Enter name of City 1: ')\n",
    "city_2 = input('Enter name of City 2: ')\n",
    "\n",
    "temp = city_1\n",
    "city_1 = city_2\n",
    "city_2 = temp\n",
    "\n",
    "print(f\"The name of City 1 after swapping is {city_1}\")\n",
    "print(f\"The name of City 2 after swapping is {city_2}\")"
   ]
  },
  {
   "cell_type": "code",
   "execution_count": 1,
   "metadata": {},
   "outputs": [
    {
     "name": "stdout",
     "output_type": "stream",
     "text": [
      "Positive Number\n"
     ]
    }
   ],
   "source": [
    "num = float(input(\"Enter a number: \"))\n",
    "if num > 0:\n",
    "    print(\"Positive Number\")\n",
    "elif num == 0:\n",
    "    print(\"Zero\")\n",
    "else:\n",
    "    print(\"Negative number\")            "
   ]
  },
  {
   "cell_type": "code",
   "execution_count": null,
   "metadata": {},
   "outputs": [
    {
     "name": "stdout",
     "output_type": "stream",
     "text": [
      "welcome to the COUPE DE ESCRIVA 2025: FOOTBALL PICKS \n",
      "\n",
      "Madiba:  Feranmi Kejawa\n",
      "Blue-jays:  Maro Cole\n",
      "Cirok Nneji Kamsi\n",
      "TSG Walkers Donald Ojo\n",
      "\n",
      "\n",
      "Madiba: Feranmi Kejawa\n",
      "Blue Jays Donald Okafor\n",
      "Cirok Timileyin Pearse\n",
      "TSG Walkers Shaun Ebuka\n"
     ]
    }
   ],
   "source": [
    "print(\"welcome to the COUPE DE ESCRIVA 2025: FOOTBALL PICKS \\n\")\n",
    "captain = {'Madiba: ': 'Feranmi Kejawa', 'Blue-jays: ': 'Maro Cole', 'Cirok:': 'Nneji Kamsi', 'TSG Walkers:': 'Donald Ojo'}\n",
    "\n",
    "goalkeepers = {'Madiba:': 'Feranmi Kejawa',\n",
    "              'Blue Jays:': 'Donald Okafor',\n",
    "              'Cirok:': 'Timileyin Pearse',\n",
    "              'TSG Walkers:': 'Shaun Ebuka' }\n",
    "\n",
    "for pick in captain:\n",
    "    print(pick, captain[pick])\n",
    "\n",
    "print(\"\\n\")\n",
    "\n",
    "for pick in goalkeepers:\n",
    "    print(pick, goalkeepers[pick])"
   ]
  },
  {
   "cell_type": "code",
   "execution_count": 3,
   "metadata": {},
   "outputs": [
    {
     "name": "stdout",
     "output_type": "stream",
     "text": [
      "+---------+-------+----------+---------+\n",
      "| Name    |   Age |   Height |   Score |\n",
      "+=========+=======+==========+=========+\n",
      "| Evelyn  |    17 |      5.5 |      80 |\n",
      "+---------+-------+----------+---------+\n",
      "| Jessica |    16 |      6   |      85 |\n",
      "+---------+-------+----------+---------+\n",
      "| Somto   |    17 |      5.4 |      70 |\n",
      "+---------+-------+----------+---------+\n",
      "| Edith   |    18 |      5.9 |      60 |\n",
      "+---------+-------+----------+---------+\n",
      "| Liza    |    16 |      5.6 |      76 |\n",
      "+---------+-------+----------+---------+\n",
      "| Madonna |    18 |      5.5 |      66 |\n",
      "+---------+-------+----------+---------+\n",
      "| Waje    |    17 |      5.6 |      87 |\n",
      "+---------+-------+----------+---------+\n",
      "| Tola    |    20 |      1.6 |      95 |\n",
      "+---------+-------+----------+---------+\n",
      "| Aisha   |    19 |      0.5 |      50 |\n",
      "+---------+-------+----------+---------+\n",
      "| Latifa  |    17 |      7.5 |      49 |\n",
      "+---------+-------+----------+---------+\n",
      "| Chinedu |    19 |      5.5 |      74 |\n",
      "+---------+-------+----------+---------+\n",
      "| Liam    |    16 |      5.7 |      87 |\n",
      "+---------+-------+----------+---------+\n",
      "| Wale    |    18 |      5.9 |      75 |\n",
      "+---------+-------+----------+---------+\n",
      "| Gbenga  |    17 |      5.8 |      68 |\n",
      "+---------+-------+----------+---------+\n",
      "| Abiola  |    20 |      6.1 |      66 |\n",
      "+---------+-------+----------+---------+\n",
      "| Kola    |    19 |      5.9 |      78 |\n",
      "+---------+-------+----------+---------+\n",
      "| Kunle   |    16 |      5.5 |      87 |\n",
      "+---------+-------+----------+---------+\n",
      "| George  |    18 |      6.1 |      98 |\n",
      "+---------+-------+----------+---------+\n",
      "| Thomas  |    17 |      5.4 |      54 |\n",
      "+---------+-------+----------+---------+\n",
      "| Wesley  |    19 |      5.8 |      60 |\n",
      "+---------+-------+----------+---------+\n"
     ]
    }
   ],
   "source": [
    "from tabulate import tabulate  # Import the tabulate library to create a table\n",
    "\n",
    "# Girls' data\n",
    "girls_names = [\"Evelyn\", \"Jessica\", \"Somto\", \"Edith\", \"Liza\", \"Madonna\", \"Waje\", \"Tola\", \"Aisha\", \"Latifa\"]\n",
    "girls_age = [17, 16, 17, 18, 16, 18, 17, 20, 19, 17]\n",
    "girls_height = [5.5, 6.0, 5.4, 5.9, 5.6, 5.5, 5.6, 1.6, 0.5, 7.5, 5.5]\n",
    "girls_scores = [80, 85, 70, 60, 76, 66, 87, 95, 50, 49]\n",
    "\n",
    "# Boys' data\n",
    "boys_names = [\"Chinedu\", \"Liam\", \"Wale\", \"Gbenga\", \"Abiola\", \"Kola\", \"Kunle\", \"George\", \"Thomas\", \"Wesley\"]\n",
    "boys_age = [19, 16, 18, 17, 20, 19, 16, 18, 17, 19]\n",
    "boys_height = [5.7, 5.9, 5.8, 6.1, 5.9, 5.5, 6.1, 5.4, 5.8, 5.7]\n",
    "boys_scores = [74, 87, 75, 68, 66, 78, 87, 98, 54, 60]\n",
    "\n",
    "# Combine girls and boys data\n",
    "names = girls_names + boys_names\n",
    "ages = girls_age + boys_age\n",
    "heights = girls_height + boys_height\n",
    "scores = girls_scores + boys_scores\n",
    "\n",
    "# Create a list of student data\n",
    "students_data = list(zip(names, ages, heights, scores))\n",
    "\n",
    "# Define table headers\n",
    "headers = [\"Name\", \"Age\", \"Height\", \"Score\"]\n",
    "\n",
    "# Print the table\n",
    "print(tabulate(students_data, headers=headers, tablefmt=\"grid\"))\n"
   ]
  },
  {
   "cell_type": "code",
   "execution_count": 4,
   "metadata": {},
   "outputs": [
    {
     "ename": "KeyboardInterrupt",
     "evalue": "Interrupted by user",
     "output_type": "error",
     "traceback": [
      "\u001b[31m---------------------------------------------------------------------------\u001b[39m",
      "\u001b[31mKeyboardInterrupt\u001b[39m                         Traceback (most recent call last)",
      "\u001b[36mCell\u001b[39m\u001b[36m \u001b[39m\u001b[32mIn[4]\u001b[39m\u001b[32m, line 13\u001b[39m\n\u001b[32m     10\u001b[39m         \u001b[38;5;28;01mreturn\u001b[39;00m \u001b[32m550000\u001b[39m\n\u001b[32m     12\u001b[39m \u001b[38;5;66;03m# Get user input\u001b[39;00m\n\u001b[32m---> \u001b[39m\u001b[32m13\u001b[39m experience = \u001b[38;5;28mint\u001b[39m(\u001b[38;5;28;43minput\u001b[39;49m\u001b[43m(\u001b[49m\u001b[33;43m\"\u001b[39;49m\u001b[33;43mEnter your years of experience: \u001b[39;49m\u001b[33;43m\"\u001b[39;49m\u001b[43m)\u001b[49m)\n\u001b[32m     14\u001b[39m age = \u001b[38;5;28mint\u001b[39m(\u001b[38;5;28minput\u001b[39m(\u001b[33m\"\u001b[39m\u001b[33mEnter your age: \u001b[39m\u001b[33m\"\u001b[39m))\n\u001b[32m     16\u001b[39m \u001b[38;5;66;03m# Calculate ATR\u001b[39;00m\n",
      "\u001b[36mFile \u001b[39m\u001b[32m~\\AppData\\Local\\Packages\\PythonSoftwareFoundation.Python.3.11_qbz5n2kfra8p0\\LocalCache\\local-packages\\Python311\\site-packages\\ipykernel\\kernelbase.py:1282\u001b[39m, in \u001b[36mKernel.raw_input\u001b[39m\u001b[34m(self, prompt)\u001b[39m\n\u001b[32m   1280\u001b[39m     msg = \u001b[33m\"\u001b[39m\u001b[33mraw_input was called, but this frontend does not support input requests.\u001b[39m\u001b[33m\"\u001b[39m\n\u001b[32m   1281\u001b[39m     \u001b[38;5;28;01mraise\u001b[39;00m StdinNotImplementedError(msg)\n\u001b[32m-> \u001b[39m\u001b[32m1282\u001b[39m \u001b[38;5;28;01mreturn\u001b[39;00m \u001b[38;5;28;43mself\u001b[39;49m\u001b[43m.\u001b[49m\u001b[43m_input_request\u001b[49m\u001b[43m(\u001b[49m\n\u001b[32m   1283\u001b[39m \u001b[43m    \u001b[49m\u001b[38;5;28;43mstr\u001b[39;49m\u001b[43m(\u001b[49m\u001b[43mprompt\u001b[49m\u001b[43m)\u001b[49m\u001b[43m,\u001b[49m\n\u001b[32m   1284\u001b[39m \u001b[43m    \u001b[49m\u001b[38;5;28;43mself\u001b[39;49m\u001b[43m.\u001b[49m\u001b[43m_parent_ident\u001b[49m\u001b[43m[\u001b[49m\u001b[33;43m\"\u001b[39;49m\u001b[33;43mshell\u001b[39;49m\u001b[33;43m\"\u001b[39;49m\u001b[43m]\u001b[49m\u001b[43m,\u001b[49m\n\u001b[32m   1285\u001b[39m \u001b[43m    \u001b[49m\u001b[38;5;28;43mself\u001b[39;49m\u001b[43m.\u001b[49m\u001b[43mget_parent\u001b[49m\u001b[43m(\u001b[49m\u001b[33;43m\"\u001b[39;49m\u001b[33;43mshell\u001b[39;49m\u001b[33;43m\"\u001b[39;49m\u001b[43m)\u001b[49m\u001b[43m,\u001b[49m\n\u001b[32m   1286\u001b[39m \u001b[43m    \u001b[49m\u001b[43mpassword\u001b[49m\u001b[43m=\u001b[49m\u001b[38;5;28;43;01mFalse\u001b[39;49;00m\u001b[43m,\u001b[49m\n\u001b[32m   1287\u001b[39m \u001b[43m\u001b[49m\u001b[43m)\u001b[49m\n",
      "\u001b[36mFile \u001b[39m\u001b[32m~\\AppData\\Local\\Packages\\PythonSoftwareFoundation.Python.3.11_qbz5n2kfra8p0\\LocalCache\\local-packages\\Python311\\site-packages\\ipykernel\\kernelbase.py:1325\u001b[39m, in \u001b[36mKernel._input_request\u001b[39m\u001b[34m(self, prompt, ident, parent, password)\u001b[39m\n\u001b[32m   1322\u001b[39m \u001b[38;5;28;01mexcept\u001b[39;00m \u001b[38;5;167;01mKeyboardInterrupt\u001b[39;00m:\n\u001b[32m   1323\u001b[39m     \u001b[38;5;66;03m# re-raise KeyboardInterrupt, to truncate traceback\u001b[39;00m\n\u001b[32m   1324\u001b[39m     msg = \u001b[33m\"\u001b[39m\u001b[33mInterrupted by user\u001b[39m\u001b[33m\"\u001b[39m\n\u001b[32m-> \u001b[39m\u001b[32m1325\u001b[39m     \u001b[38;5;28;01mraise\u001b[39;00m \u001b[38;5;167;01mKeyboardInterrupt\u001b[39;00m(msg) \u001b[38;5;28;01mfrom\u001b[39;00m\u001b[38;5;250m \u001b[39m\u001b[38;5;28;01mNone\u001b[39;00m\n\u001b[32m   1326\u001b[39m \u001b[38;5;28;01mexcept\u001b[39;00m \u001b[38;5;167;01mException\u001b[39;00m:\n\u001b[32m   1327\u001b[39m     \u001b[38;5;28mself\u001b[39m.log.warning(\u001b[33m\"\u001b[39m\u001b[33mInvalid Message:\u001b[39m\u001b[33m\"\u001b[39m, exc_info=\u001b[38;5;28;01mTrue\u001b[39;00m)\n",
      "\u001b[31mKeyboardInterrupt\u001b[39m: Interrupted by user"
     ]
    }
   ],
   "source": [
    "# Function to calculate Annual Tax Revenue (ATR)\n",
    "def calculate_ATR(experience, age):\n",
    "    if experience > 25 and age >= 55:\n",
    "        return 5600000\n",
    "    elif experience > 20 and age >= 45:\n",
    "        return 4480000\n",
    "    elif experience > 10 and age >= 35:\n",
    "        return 1500000\n",
    "    else:\n",
    "        return 550000\n",
    "\n",
    "# Get user input\n",
    "experience = int(input(\"Enter your years of experience: \"))\n",
    "age = int(input(\"Enter your age: \"))\n",
    "\n",
    "# Calculate ATR\n",
    "atr = calculate_ATR(experience, age)\n",
    "\n",
    "# Display result\n",
    "print(f\"Your Annual Tax Revenue (ATR) is: N{atr:.2f}\")\n"
   ]
  }
 ],
 "metadata": {
  "kernelspec": {
   "display_name": "Python 3",
   "language": "python",
   "name": "python3"
  },
  "language_info": {
   "codemirror_mode": {
    "name": "ipython",
    "version": 3
   },
   "file_extension": ".py",
   "mimetype": "text/x-python",
   "name": "python",
   "nbconvert_exporter": "python",
   "pygments_lexer": "ipython3",
   "version": "3.11.9"
  }
 },
 "nbformat": 4,
 "nbformat_minor": 2
}
